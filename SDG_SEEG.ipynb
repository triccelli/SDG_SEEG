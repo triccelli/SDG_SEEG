{
 "cells": [
  {
   "cell_type": "markdown",
   "metadata": {
    "heading_collapsed": true
   },
   "source": [
    "# VARIABLES"
   ]
  },
  {
   "cell_type": "code",
   "execution_count": null,
   "metadata": {
    "hidden": true
   },
   "outputs": [],
   "source": [
    "dataset_directory = 'directory = '/Users/riccellit/Desktop/'"
   ]
  },
  {
   "cell_type": "markdown",
   "metadata": {
    "heading_collapsed": true
   },
   "source": [
    "# IMPORT"
   ]
  },
  {
   "cell_type": "code",
   "execution_count": null,
   "metadata": {
    "code_folding": [
     8
    ],
    "hidden": true
   },
   "outputs": [],
   "source": [
    "import os,sys \n",
    "import numpy as np \n",
    "import scipy.stats as st \n",
    "import pandas as pd \n",
    "import seaborn as sns \n",
    "import matplotlib.pyplot as plt\n",
    "\n",
    "def concordance_fx(dataframe): \n",
    "    dataframe =dataframe.reset_index()\n",
    "    coverage_SEEG = [dataframe.SEEG_side_coverage, dataframe.SEEG_F_coverage, dataframe.SEEG_O_coverage, dataframe.SEEG_T_coverage, dataframe.SEEG_P_coverage]\n",
    "    coverage_SDG = [dataframe.SDG_side_coverage, dataframe.SDG_F_coverage, dataframe.SDG_O_coverage, dataframe.SDG_T_coverage, dataframe.SDG_P_coverage]\n",
    "    Lobes_SEEG = [dataframe.SDG_side_ictal, dataframe.SEEG_F_ictal, dataframe.SEEG_O_ictal, dataframe.SEEG_T_ictal, dataframe.SEEG_P_ictal]\n",
    "    Lobes_SDG = [dataframe.SDG_side_ictal, dataframe.SDG_F_ictal, dataframe.SDG_O_ictal, dataframe.SDG_T_ictal, dataframe.SDG_P_ictal]\n",
    "    keys = ['side','F', 'O', 'T', 'P']\n",
    "    all_concordance = [] \n",
    "    concordance_values = [] \n",
    "    for i,x in enumerate(Lobes_SEEG): \n",
    "        concordance = [] \n",
    "        for ii,xx in enumerate(x): \n",
    "            if coverage_SDG[i][ii] == coverage_SEEG[i][ii]: #did they cover the same areas\n",
    "                if xx == Lobes_SDG[i][ii]: #were the ictal localizations the same between sdg and seeg \n",
    "                    concordance.append(1)\n",
    "                else: \n",
    "                    concordance.append(0)\n",
    "        else: #don't calculate concordance if they didn't cover the same areas \n",
    "            pass\n",
    "        all_concordance.append(np.nanmean(concordance)*100)\n",
    "        concordance_values.append(concordance)\n",
    "    return(keys, all_concordance, concordance_values)\n"
   ]
  },
  {
   "cell_type": "markdown",
   "metadata": {
    "heading_collapsed": true
   },
   "source": [
    "# EXTRACT DATAFRAME"
   ]
  },
  {
   "cell_type": "code",
   "execution_count": null,
   "metadata": {
    "code_folding": [
     0,
     7
    ],
    "hidden": true
   },
   "outputs": [],
   "source": [
    "#Extract data \n",
    "filename = 'SDG_SEEG_Data.csv'\n",
    "name = os.path.join(directory, filename)\n",
    "keys = ['side','F', 'O', 'I', 'C', 'T', 'P']\n",
    "\n",
    "\n",
    "sheet = pd.read_csv(name)\n",
    "data = pd.DataFrame(data = {'Patient':sheet.index.values, \n",
    "                            'Age': [int(x) if len(x)<4 else np.nan for x in sheet.Age.values],\n",
    "                            'Duration': [int(x) if len(x)<4 else np.nan for x in sheet.Epilepsy_duration_yrs.values],\n",
    "                            \n",
    "                            'MRI_positive':sheet.MRI_positive.values,\n",
    "                            'Class':[int(x) if len(x) <4 else np.nan for x in sheet.Engel_ILAE_class.values], \n",
    "                            #'SF':[int(x) if len(x) <4 else np.nan for x in sheet.Sz_freedom_at_fu_mo.values],\n",
    "                            'Fu':[int(x) if len(x) <4 else np.nan for x in sheet.Fu_months.values],\n",
    "\n",
    "                            'SDG_n_electrodes': [int(x) if len(x) <4 else np.nan for x in sheet.SDG_n_electrodes.values],\n",
    "                            'SDG_side_coverage': sheet.SDG_side.values,\n",
    "                            'SDG_F_coverage': [1 if 'F' in x else 0 for x in sheet.SDG_areas.values],\n",
    "                            'SDG_T_coverage':[1 if 'T' in x else 0 for x in sheet.SDG_areas.values],\n",
    "                            'SDG_P_coverage':[1 if 'P' in x else 0 for x in sheet.SDG_areas.values],\n",
    "                            'SDG_O_coverage':[1 if 'O' in x else 0 for x in sheet.SDG_areas.values],\n",
    "                            'SDG_I_coverage':[1 if 'I' in x else 0 for x in sheet.SDG_areas.values],\n",
    "                            'SDG_C_coverage':[1 if 'C' in x else 0 for x in sheet.SDG_areas.values],\n",
    "\n",
    "                            'SDG_TOT_coverage':sheet.SDG_areas.values, \n",
    "                            'SDG_side_ictal': sheet.SDG_ictal_side.values,\n",
    "                            'SDG_F_ictal': [1 if 'F' in x else 0 for x in sheet.SDG_ictal_lobe.values],\n",
    "                            'SDG_T_ictal':[1 if 'T' in x else 0 for x in sheet.SDG_ictal_lobe.values],\n",
    "                            'SDG_P_ictal':[1 if 'P' in x else 0 for x in sheet.SDG_ictal_lobe.values],\n",
    "                            'SDG_O_ictal':[1 if 'O' in x else 0 for x in sheet.SDG_ictal_lobe.values],\n",
    "                            'SDG_I_ictal':[1 if 'I' in x else 0 for x in sheet.SDG_ictal_lobe.values],\n",
    "                            'SDG_C_ictal':[1 if 'C' in x else 0 for x in sheet.SDG_ictal_lobe.values],\n",
    "                            'SDG_NL_ictal':[1 if 'NL' in x else 0 for x in sheet.SDG_ictal_lobe.values],\n",
    "                            'SDG_TOT_ictal':sheet.SDG_ictal_lobe.values, \n",
    "                            'Post_SDG_resection':sheet.SDG_sx_after_sdg.values, \n",
    "                            'Post_SDG_resection_side':[x if len(x) <4 else np.nan for x in sheet.SDG_sx_after_sdg_side.values], \n",
    "                            'Post_SDG_resection_F': [1 if 'F' in x else 0 for x in sheet.SDG_sx_after_sdg_lobe.values],\n",
    "                            'Post_SDG_resection_T':[1 if 'T' in x else 0 for x in sheet.SDG_sx_after_sdg_lobe.values],\n",
    "                            'Post_SDG_resection_P':[1 if 'P' in x else 0 for x in sheet.SDG_sx_after_sdg_lobe.values],\n",
    "                            'Post_SDG_resection_areas':sheet.SDG_sx_after_sdg_lobe.values,\n",
    "                            'SDG_resection_histology': sheet.SDG_histology_after_sdg.values, \n",
    "                            \n",
    "                            'SEEG_side_coverage': sheet.SEEG_side.values,\n",
    "                            'SEEG_F_coverage': [1 if 'F' in x else 0 for x in sheet.SEEG_areas.values],\n",
    "                            'SEEG_T_coverage':[1 if 'T' in x else 0 for x in sheet.SEEG_areas.values],\n",
    "                            'SEEG_P_coverage':[1 if 'P' in x else 0 for x in sheet.SEEG_areas.values],\n",
    "                            'SEEG_O_coverage':[1 if 'O' in x else 0 for x in sheet.SEEG_areas.values],\n",
    "                            'SEEG_I_coverage':[1 if 'I' in x else 0 for x in sheet.SEEG_areas.values],\n",
    "                            'SEEG_C_coverage':[1 if 'C' in x else 0 for x in sheet.SEEG_areas.values],\n",
    "                            'SEEG_TOT_coverage':sheet.SEEG_areas.values, \n",
    "                            \n",
    "                            'SEEG_side_ictal': sheet.SEEG_ictal_side.values,\n",
    "                            'SEEG_F_ictal': [1 if 'F' in x else 0 for x in sheet.SEEG_ictal_lobe.values],\n",
    "                            'SEEG_T_ictal':[1 if 'T' in x else 0 for x in sheet.SEEG_ictal_lobe.values],\n",
    "                            'SEEG_P_ictal':[1 if 'P' in x else 0 for x in sheet.SEEG_ictal_lobe.values],\n",
    "                            'SEEG_O_ictal':[1 if 'O' in x else 0 for x in sheet.SEEG_ictal_lobe.values],\n",
    "                            'SEEG_I_ictal':[1 if 'I' in x else 0 for x in sheet.SEEG_ictal_lobe.values],\n",
    "                            'SEEG_C_ictal':[1 if 'C' in x else 0 for x in sheet.SEEG_ictal_lobe.values],\n",
    "                            'SEEG_TOT_ictal':sheet.SEEG_ictal_lobe.values, \n",
    "                            \n",
    "                            'Post_SEEG_resection':sheet.SEEG_sx_after_seeg.values, \n",
    "                            'Post_SEEG_resection_side':[x if len(x) <4 else np.nan for x in sheet.SEEG_sx_after_seeg_side.values], \n",
    "                            'Post_SEEG_resection_F': [1 if 'F' in x else 0 for x in sheet.SEEG_sx_after_seeg_lobe.values],\n",
    "                            'Post_SEEG_resection_T':[1 if 'T' in x else 0 for x in sheet.SEEG_sx_after_seeg_lobe.values],\n",
    "                            'Post_SEEG_resection_P':[1 if 'P' in x else 0 for x in sheet.SEEG_sx_after_seeg_lobe.values],\n",
    "                            'Post_SEEG_resection_areas':sheet.SEEG_sx_after_seeg_lobe.values,\n",
    "                            'SEEG_resection_histology': sheet.SEEG_histology_after_seeg.values, \n",
    "\n",
    "                            'Localization_after_SDG_NL':[int(x) if len(x) <4 else np.nan for x in sheet.Localization_after_SDG_NL.values]})\n",
    "\n",
    "print(\"DF KEYS:\")\n",
    "print(data.keys())"
   ]
  },
  {
   "cell_type": "markdown",
   "metadata": {
    "heading_collapsed": true
   },
   "source": [
    "# ANALYSIS\n"
   ]
  },
  {
   "cell_type": "code",
   "execution_count": null,
   "metadata": {
    "code_folding": [
     0
    ],
    "hidden": true,
    "scrolled": true
   },
   "outputs": [],
   "source": [
    "#DEMOGRAPHICS \n",
    "print('mean age')\n",
    "print(str(np.nanmean(data.Age.values)) + ' +/- ' + str(np.nanstd(data.Age.values)))\n",
    "print('')\n",
    "print('median age') \n",
    "print(str(np.nanmedian(data.Age.values)))\n",
    "print('') \n",
    "print('median duration seizures')\n",
    "print(str(np.nanmedian(data.Duration.values)))\n"
   ]
  },
  {
   "cell_type": "code",
   "execution_count": null,
   "metadata": {
    "code_folding": [
     0
    ],
    "hidden": true
   },
   "outputs": [],
   "source": [
    "#CONCORDANCE\n",
    "data.sort_values(by=['MRI_positive']) # sort by MRI status \n",
    "\n",
    "print('SDG n electrodes')\n",
    "print(str(np.nanmean(data.SDG_n_electrodes.values)) + ' +/- ' + str(np.nanstd(data.SDG_n_electrodes.values)))\n",
    "print('')\n",
    "\n",
    "print('Average Follow up months')\n",
    "print(str(np.nanmean(data.Fu.values))+ ' +/- ' + str(np.nanstd(data.Fu.values)))\n",
    "print('')\n",
    "\n",
    "print('Total concordance %') \n",
    "print(concordance_fx(data))\n",
    "print('')\n",
    "\n",
    "print('MRI COMPARISON: +VE vs -VE')\n",
    "print('MRI +ve n') \n",
    "MRI_0 = data[data.MRI_positive == 0]\n",
    "MRI_1 = data[data.MRI_positive == 1]\n",
    "print(len(MRI_1))\n",
    "print('MRI -ve n') \n",
    "print(len(MRI_0))\n",
    "print('')\n",
    "\n",
    "print('MRI +ve outcome class average +/- std') \n",
    "print(str(np.nanmean(MRI_1.Class.values)) + ' +/- ' + str(np.nanstd(MRI_1.Class.values)))\n",
    "print('MRI -ve outcome class average +/- std') \n",
    "print(str(np.nanmean(MRI_0.Class.values)) + ' +/- ' + str(np.nanstd(MRI_0.Class.values)))\n",
    "print('')\n",
    "print('MRI outcome comparison')\n",
    "MRI_0_nan = [x for x in MRI_0.Class.values if str(x) != 'nan']\n",
    "MRI_1_nan = [x for x in MRI_1.Class.values if str(x) != 'nan']\n",
    "print(st.kruskal(MRI_0_nan, MRI_1_nan))\n",
    "print('')\n",
    "\n",
    "print('MRI +ve concordance %')\n",
    "print(concordance_fx(MRI_1))\n",
    "print('MRI -ve concordance %')\n",
    "print(concordance_fx(MRI_0))\n",
    "\n",
    "\n"
   ]
  },
  {
   "cell_type": "code",
   "execution_count": null,
   "metadata": {
    "hidden": true
   },
   "outputs": [],
   "source": []
  }
 ],
 "metadata": {
  "kernelspec": {
   "display_name": "Python 3",
   "language": "python",
   "name": "python3"
  },
  "language_info": {
   "codemirror_mode": {
    "name": "ipython",
    "version": 3
   },
   "file_extension": ".py",
   "mimetype": "text/x-python",
   "name": "python",
   "nbconvert_exporter": "python",
   "pygments_lexer": "ipython3",
   "version": "3.6.8"
  }
 },
 "nbformat": 4,
 "nbformat_minor": 2
}
